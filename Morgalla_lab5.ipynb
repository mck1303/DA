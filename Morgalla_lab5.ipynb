{
 "cells": [
  {
   "cell_type": "markdown",
   "metadata": {},
   "source": [
    "# Lab 5 - General Linear Models: Logistic regression"
   ]
  },
  {
   "cell_type": "code",
   "execution_count": 1,
   "metadata": {},
   "outputs": [],
   "source": [
    "from cmdstanpy import CmdStanModel\n",
    "\n",
    "import arviz as az\n",
    "import numpy as np\n",
    "import scipy.stats as stats\n",
    "\n",
    "import pandas as pd\n",
    "\n",
    "import matplotlib.pyplot as plt\n",
    "import matplotlib as mpl"
   ]
  },
  {
   "cell_type": "markdown",
   "metadata": {},
   "source": [
    "#### Read data from csv file"
   ]
  },
  {
   "cell_type": "code",
   "execution_count": 2,
   "metadata": {},
   "outputs": [
    {
     "data": {
      "text/html": [
       "<div>\n",
       "<style scoped>\n",
       "    .dataframe tbody tr th:only-of-type {\n",
       "        vertical-align: middle;\n",
       "    }\n",
       "\n",
       "    .dataframe tbody tr th {\n",
       "        vertical-align: top;\n",
       "    }\n",
       "\n",
       "    .dataframe thead th {\n",
       "        text-align: right;\n",
       "    }\n",
       "</style>\n",
       "<table border=\"1\" class=\"dataframe\">\n",
       "  <thead>\n",
       "    <tr style=\"text-align: right;\">\n",
       "      <th></th>\n",
       "      <th>Unnamed: 0</th>\n",
       "      <th>x1</th>\n",
       "      <th>x2</th>\n",
       "      <th>x3</th>\n",
       "      <th>x4</th>\n",
       "      <th>x5</th>\n",
       "      <th>y</th>\n",
       "    </tr>\n",
       "  </thead>\n",
       "  <tbody>\n",
       "    <tr>\n",
       "      <th>count</th>\n",
       "      <td>500.000000</td>\n",
       "      <td>500.000000</td>\n",
       "      <td>500.000000</td>\n",
       "      <td>500.000000</td>\n",
       "      <td>5.000000e+02</td>\n",
       "      <td>5.000000e+02</td>\n",
       "      <td>500.000000</td>\n",
       "    </tr>\n",
       "    <tr>\n",
       "      <th>mean</th>\n",
       "      <td>249.500000</td>\n",
       "      <td>-0.015777</td>\n",
       "      <td>0.334002</td>\n",
       "      <td>-0.001484</td>\n",
       "      <td>2.022817e-01</td>\n",
       "      <td>2.770684e-03</td>\n",
       "      <td>0.494000</td>\n",
       "    </tr>\n",
       "    <tr>\n",
       "      <th>std</th>\n",
       "      <td>144.481833</td>\n",
       "      <td>0.578292</td>\n",
       "      <td>0.301507</td>\n",
       "      <td>0.383111</td>\n",
       "      <td>2.738984e-01</td>\n",
       "      <td>3.107472e-01</td>\n",
       "      <td>0.500465</td>\n",
       "    </tr>\n",
       "    <tr>\n",
       "      <th>min</th>\n",
       "      <td>0.000000</td>\n",
       "      <td>-0.997592</td>\n",
       "      <td>0.000005</td>\n",
       "      <td>-0.992794</td>\n",
       "      <td>2.276756e-11</td>\n",
       "      <td>-9.880191e-01</td>\n",
       "      <td>0.000000</td>\n",
       "    </tr>\n",
       "    <tr>\n",
       "      <th>25%</th>\n",
       "      <td>124.750000</td>\n",
       "      <td>-0.515144</td>\n",
       "      <td>0.064052</td>\n",
       "      <td>-0.136718</td>\n",
       "      <td>4.102616e-03</td>\n",
       "      <td>-3.628888e-02</td>\n",
       "      <td>0.000000</td>\n",
       "    </tr>\n",
       "    <tr>\n",
       "      <th>50%</th>\n",
       "      <td>249.500000</td>\n",
       "      <td>-0.026042</td>\n",
       "      <td>0.254724</td>\n",
       "      <td>-0.000018</td>\n",
       "      <td>6.488454e-02</td>\n",
       "      <td>-1.278838e-08</td>\n",
       "      <td>0.000000</td>\n",
       "    </tr>\n",
       "    <tr>\n",
       "      <th>75%</th>\n",
       "      <td>374.250000</td>\n",
       "      <td>0.475396</td>\n",
       "      <td>0.555544</td>\n",
       "      <td>0.107440</td>\n",
       "      <td>3.086316e-01</td>\n",
       "      <td>2.428165e-02</td>\n",
       "      <td>1.000000</td>\n",
       "    </tr>\n",
       "    <tr>\n",
       "      <th>max</th>\n",
       "      <td>499.000000</td>\n",
       "      <td>0.999652</td>\n",
       "      <td>0.999305</td>\n",
       "      <td>0.998957</td>\n",
       "      <td>9.986100e-01</td>\n",
       "      <td>9.982628e-01</td>\n",
       "      <td>1.000000</td>\n",
       "    </tr>\n",
       "  </tbody>\n",
       "</table>\n",
       "</div>"
      ],
      "text/plain": [
       "       Unnamed: 0          x1          x2          x3            x4  \\\n",
       "count  500.000000  500.000000  500.000000  500.000000  5.000000e+02   \n",
       "mean   249.500000   -0.015777    0.334002   -0.001484  2.022817e-01   \n",
       "std    144.481833    0.578292    0.301507    0.383111  2.738984e-01   \n",
       "min      0.000000   -0.997592    0.000005   -0.992794  2.276756e-11   \n",
       "25%    124.750000   -0.515144    0.064052   -0.136718  4.102616e-03   \n",
       "50%    249.500000   -0.026042    0.254724   -0.000018  6.488454e-02   \n",
       "75%    374.250000    0.475396    0.555544    0.107440  3.086316e-01   \n",
       "max    499.000000    0.999652    0.999305    0.998957  9.986100e-01   \n",
       "\n",
       "                 x5           y  \n",
       "count  5.000000e+02  500.000000  \n",
       "mean   2.770684e-03    0.494000  \n",
       "std    3.107472e-01    0.500465  \n",
       "min   -9.880191e-01    0.000000  \n",
       "25%   -3.628888e-02    0.000000  \n",
       "50%   -1.278838e-08    0.000000  \n",
       "75%    2.428165e-02    1.000000  \n",
       "max    9.982628e-01    1.000000  "
      ]
     },
     "execution_count": 2,
     "metadata": {},
     "output_type": "execute_result"
    }
   ],
   "source": [
    "data = pd.read_csv(\"logistic_reg_data.csv\")\n",
    "data.describe()"
   ]
  },
  {
   "cell_type": "markdown",
   "metadata": {},
   "source": [
    "### Prior selection\n"
   ]
  },
  {
   "cell_type": "code",
   "execution_count": 8,
   "metadata": {},
   "outputs": [
    {
     "name": "stderr",
     "output_type": "stream",
     "text": [
      "INFO:cmdstanpy:compiling stan file C:\\Users\\Emperor\\logistic_regression_ppc.stan to exe file C:\\Users\\Emperor\\logistic_regression_ppc.exe\n",
      "INFO:cmdstanpy:compiled model executable: C:\\Users\\Emperor\\logistic_regression_ppc.exe\n",
      "WARNING:cmdstanpy:Stan compiler has produced 1 warnings:\n",
      "WARNING:cmdstanpy:\n",
      "--- Translating Stan model to C++ code ---\n",
      "bin/stanc.exe  --o=C:/Users/Emperor/logistic_regression_ppc.hpp C:/Users/Emperor/logistic_regression_ppc.stan\n",
      "Warning in 'C:/Users/Emperor/logistic_regression_ppc.stan', line 15, column 4: Declaration\n",
      "    of arrays by placing brackets after a variable name is deprecated and\n",
      "    will be removed in Stan 2.32.0. Instead use the array keyword before the\n",
      "    type. This can be changed automatically using the auto-format flag to\n",
      "    stanc\n",
      "\n",
      "--- Compiling, linking C++ code ---\n",
      "g++ -std=c++1y -m64 -D_REENTRANT -Wall -Wno-unused-function -Wno-uninitialized -Wno-unused-but-set-variable -Wno-unused-variable -Wno-sign-compare -Wno-unused-local-typedefs -Wno-int-in-bool-context -Wno-attributes -Wno-ignored-attributes      -I stan/lib/stan_math/lib/tbb_2020.3/include    -O3 -I src -I stan/src -I lib/rapidjson_1.1.0/ -I lib/CLI11-1.9.1/ -I stan/lib/stan_math/ -I stan/lib/stan_math/lib/eigen_3.3.9 -I stan/lib/stan_math/lib/boost_1.75.0 -I stan/lib/stan_math/lib/sundials_6.0.0/include -I stan/lib/stan_math/lib/sundials_6.0.0/src/sundials  -D_USE_MATH_DEFINES  -DBOOST_DISABLE_ASSERTS          -c  -x c++ -o C:/Users/Emperor/logistic_regression_ppc.o C:/Users/Emperor/logistic_regression_ppc.hpp\n",
      "g++ -std=c++1y -m64 -D_REENTRANT -Wall -Wno-unused-function -Wno-uninitialized -Wno-unused-but-set-variable -Wno-unused-variable -Wno-sign-compare -Wno-unused-local-typedefs -Wno-int-in-bool-context -Wno-attributes -Wno-ignored-attributes      -I stan/lib/stan_math/lib/tbb_2020.3/include    -O3 -I src -I stan/src -I lib/rapidjson_1.1.0/ -I lib/CLI11-1.9.1/ -I stan/lib/stan_math/ -I stan/lib/stan_math/lib/eigen_3.3.9 -I stan/lib/stan_math/lib/boost_1.75.0 -I stan/lib/stan_math/lib/sundials_6.0.0/include -I stan/lib/stan_math/lib/sundials_6.0.0/src/sundials  -D_USE_MATH_DEFINES  -DBOOST_DISABLE_ASSERTS                -Wl,-L,\"C:/Users/Emperor/.cmdstan/cmdstan-2.29.1/stan/lib/stan_math/lib/tbb\" -Wl,-rpath,\"C:/Users/Emperor/.cmdstan/cmdstan-2.29.1/stan/lib/stan_math/lib/tbb\"      C:/Users/Emperor/logistic_regression_ppc.o src/cmdstan/main.o  -static-libgcc -static-libstdc++      -Wl,-L,\"C:/Users/Emperor/.cmdstan/cmdstan-2.29.1/stan/lib/stan_math/lib/tbb\" -Wl,-rpath,\"C:/Users/Emperor/.cmdstan/cmdstan-2.29.1/stan/lib/stan_math/lib/tbb\"   stan/lib/stan_math/lib/sundials_6.0.0/lib/libsundials_nvecserial.a stan/lib/stan_math/lib/sundials_6.0.0/lib/libsundials_cvodes.a stan/lib/stan_math/lib/sundials_6.0.0/lib/libsundials_idas.a stan/lib/stan_math/lib/sundials_6.0.0/lib/libsundials_kinsol.a  stan/lib/stan_math/lib/tbb/tbb.dll -o C:/Users/Emperor/logistic_regression_ppc.exe\n",
      "rm -f C:/Users/Emperor/logistic_regression_ppc.o\n",
      "\n"
     ]
    }
   ],
   "source": [
    "model_ppc1 = CmdStanModel(stan_file='logistic_regression_ppc.stan')"
   ]
  },
  {
   "cell_type": "code",
   "execution_count": 9,
   "metadata": {},
   "outputs": [
    {
     "name": "stderr",
     "output_type": "stream",
     "text": [
      "INFO:cmdstanpy:CmdStan start procesing\n"
     ]
    },
    {
     "data": {
      "application/vnd.jupyter.widget-view+json": {
       "model_id": "ea91ba752ca640b982be0eb940de827b",
       "version_major": 2,
       "version_minor": 0
      },
      "text/plain": [
       "chain 1 |          | 00:00 Status"
      ]
     },
     "metadata": {},
     "output_type": "display_data"
    },
    {
     "name": "stdout",
     "output_type": "stream",
     "text": [
      "                                                                                                                        "
     ]
    },
    {
     "name": "stderr",
     "output_type": "stream",
     "text": [
      "INFO:cmdstanpy:CmdStan done processing.\n"
     ]
    },
    {
     "name": "stdout",
     "output_type": "stream",
     "text": [
      "\n"
     ]
    }
   ],
   "source": [
    "R=1000\n",
    "data_ppc= dict(N = data.shape[0],\n",
    "                 M = 5,\n",
    "                 X = data.iloc[:,0:5].values,\n",
    "                 sigma=10)\n",
    "sim_ppc1=model_ppc1.sample(data=data_ppc, \n",
    "                           iter_sampling=R, iter_warmup=0, \n",
    "                           chains=1, \n",
    "                           refresh=R,\n",
    "                           fixed_param=True,\n",
    "                           seed=29042020)"
   ]
  },
  {
   "cell_type": "markdown",
   "metadata": {},
   "source": [
    "#### Task 1.\n",
    "\n",
    "1. Plot histograms of beta for prior model\n",
    "2. Plot again the same histograms but this time with other sigma values. For instace use values: 5, 2, 0.75.\n",
    "3. Consider which result should be taken into account when selecting prior."
   ]
  },
  {
   "cell_type": "code",
   "execution_count": 18,
   "metadata": {},
   "outputs": [
    {
     "data": {
      "text/plain": [
       "<BarContainer object of 100 artists>"
      ]
     },
     "execution_count": 18,
     "metadata": {},
     "output_type": "execute_result"
    },
    {
     "data": {
      "image/png": "[encoded data removed]",
      "text/plain": [
       "<Figure size 432x288 with 1 Axes>"
      ]
     },
     "metadata": {
      "needs_background": "light"
     },
     "output_type": "display_data"
    },
    {
     "data": {
      "image/png": "[encoded data removed]",
      "text/plain": [
       "<Figure size 432x288 with 1 Axes>"
      ]
     },
     "metadata": {
      "needs_background": "light"
     },
     "output_type": "display_data"
    },
    {
     "data": {
      "image/png": "[encoded data removed]",
      "text/plain": [
       "<Figure size 432x288 with 1 Axes>"
      ]
     },
     "metadata": {
      "needs_background": "light"
     },
     "output_type": "display_data"
    },
    {
     "data": {
      "image/png": "[encoded data removed]",
      "text/plain": [
       "<Figure size 432x288 with 1 Axes>"
      ]
     },
     "metadata": {
      "needs_background": "light"
     },
     "output_type": "display_data"
    },
    {
     "data": {
      "image/png": "[encoded data removed]",
      "text/plain": [
       "<Figure size 432x288 with 1 Axes>"
      ]
     },
     "metadata": {
      "needs_background": "light"
     },
     "output_type": "display_data"
    }
   ],
   "source": [
    "#1\n",
    "ppc1=sim_ppc1.draws_pd()\n",
    "beta11=ppc1['beta[1]']\n",
    "beta12=ppc1['beta[2]']\n",
    "beta13=ppc1['beta[3]']\n",
    "beta14=ppc1['beta[4]']\n",
    "beta15=ppc1['beta[5]']\n",
    "plt.figure()\n",
    "plt.hist(beta11,bins=100)[2]\n",
    "plt.figure()\n",
    "plt.hist(beta12,bins=100)[2]\n",
    "plt.figure()\n",
    "plt.hist(beta13,bins=100)[2]\n",
    "plt.figure()\n",
    "plt.hist(beta14,bins=100)[2]\n",
    "plt.figure()\n",
    "plt.hist(beta15,bins=100)[2]"
   ]
  },
  {
   "cell_type": "code",
   "execution_count": 20,
   "metadata": {},
   "outputs": [
    {
     "name": "stderr",
     "output_type": "stream",
     "text": [
      "INFO:cmdstanpy:CmdStan start procesing\n"
     ]
    },
    {
     "data": {
      "application/vnd.jupyter.widget-view+json": {
       "model_id": "42413699b9de4581afcaa1ccf40395d0",
       "version_major": 2,
       "version_minor": 0
      },
      "text/plain": [
       "chain 1 |          | 00:00 Status"
      ]
     },
     "metadata": {},
     "output_type": "display_data"
    },
    {
     "name": "stdout",
     "output_type": "stream",
     "text": [
      "                                                                                                                        "
     ]
    },
    {
     "name": "stderr",
     "output_type": "stream",
     "text": [
      "INFO:cmdstanpy:CmdStan done processing.\n"
     ]
    },
    {
     "name": "stdout",
     "output_type": "stream",
     "text": [
      "\n"
     ]
    },
    {
     "data": {
      "text/plain": [
       "<BarContainer object of 100 artists>"
      ]
     },
     "execution_count": 20,
     "metadata": {},
     "output_type": "execute_result"
    },
    {
     "data": {
      "image/png": "[encoded data removed]",
      "text/plain": [
       "<Figure size 432x288 with 1 Axes>"
      ]
     },
     "metadata": {
      "needs_background": "light"
     },
     "output_type": "display_data"
    },
    {
     "data": {
      "image/png": "[encoded data removed]",
      "text/plain": [
       "<Figure size 432x288 with 1 Axes>"
      ]
     },
     "metadata": {
      "needs_background": "light"
     },
     "output_type": "display_data"
    },
    {
     "data": {
      "image/png": "[encoded data removed]",
      "text/plain": [
       "<Figure size 432x288 with 1 Axes>"
      ]
     },
     "metadata": {
      "needs_background": "light"
     },
     "output_type": "display_data"
    },
    {
     "data": {
      "image/png": "[encoded data removed]",
      "text/plain": [
       "<Figure size 432x288 with 1 Axes>"
      ]
     },
     "metadata": {
      "needs_background": "light"
     },
     "output_type": "display_data"
    },
    {
     "data": {
      "image/png": "[encoded data removed]",
      "text/plain": [
       "<Figure size 432x288 with 1 Axes>"
      ]
     },
     "metadata": {
      "needs_background": "light"
     },
     "output_type": "display_data"
    }
   ],
   "source": [
    "data_ppc2= dict(N = data.shape[0],\n",
    "                 M = 5,\n",
    "                 X = data.iloc[:,0:5].values,\n",
    "                 sigma=5)\n",
    "sim_ppc2=model_ppc1.sample(data=data_ppc2, \n",
    "                           iter_sampling=R, iter_warmup=0, \n",
    "                           chains=1, \n",
    "                           refresh=R,\n",
    "                           fixed_param=True,\n",
    "                           seed=29042020)\n",
    "ppc2=sim_ppc2.draws_pd()\n",
    "beta21=ppc2['beta[1]']\n",
    "beta22=ppc2['beta[2]']\n",
    "beta23=ppc2['beta[3]']\n",
    "beta24=ppc2['beta[4]']\n",
    "beta25=ppc2['beta[5]']\n",
    "plt.figure()\n",
    "plt.hist(beta21,bins=100)[2]\n",
    "plt.figure()\n",
    "plt.hist(beta22,bins=100)[2]\n",
    "plt.figure()\n",
    "plt.hist(beta23,bins=100)[2]\n",
    "plt.figure()\n",
    "plt.hist(beta24,bins=100)[2]\n",
    "plt.figure()\n",
    "plt.hist(beta25,bins=100)[2]"
   ]
  },
  {
   "cell_type": "code",
   "execution_count": 21,
   "metadata": {},
   "outputs": [
    {
     "name": "stderr",
     "output_type": "stream",
     "text": [
      "INFO:cmdstanpy:CmdStan start procesing\n"
     ]
    },
    {
     "data": {
      "application/vnd.jupyter.widget-view+json": {
       "model_id": "cbacebe204cb4c678008bdb47e8c02a3",
       "version_major": 2,
       "version_minor": 0
      },
      "text/plain": [
       "chain 1 |          | 00:00 Status"
      ]
     },
     "metadata": {},
     "output_type": "display_data"
    },
    {
     "name": "stdout",
     "output_type": "stream",
     "text": [
      "                                                                                                                        "
     ]
    },
    {
     "name": "stderr",
     "output_type": "stream",
     "text": [
      "INFO:cmdstanpy:CmdStan done processing.\n"
     ]
    },
    {
     "name": "stdout",
     "output_type": "stream",
     "text": [
      "\n"
     ]
    },
    {
     "data": {
      "text/plain": [
       "<BarContainer object of 100 artists>"
      ]
     },
     "execution_count": 21,
     "metadata": {},
     "output_type": "execute_result"
    },
    {
     "data": {
      "image/png": "[encoded data removed]",
      "text/plain": [
       "<Figure size 432x288 with 1 Axes>"
      ]
     },
     "metadata": {
      "needs_background": "light"
     },
     "output_type": "display_data"
    },
    {
     "data": {
      "image/png": "[encoded data removed]",
      "text/plain": [
       "<Figure size 432x288 with 1 Axes>"
      ]
     },
     "metadata": {
      "needs_background": "light"
     },
     "output_type": "display_data"
    },
    {
     "data": {
      "image/png": "[encoded data removed]",
      "text/plain": [
       "<Figure size 432x288 with 1 Axes>"
      ]
     },
     "metadata": {
      "needs_background": "light"
     },
     "output_type": "display_data"
    },
    {
     "data": {
      "image/png": "[encoded data removed]",
      "text/plain": [
       "<Figure size 432x288 with 1 Axes>"
      ]
     },
     "metadata": {
      "needs_background": "light"
     },
     "output_type": "display_data"
    },
    {
     "data": {
      "image/png": "[encoded data removed]",
      "text/plain": [
       "<Figure size 432x288 with 1 Axes>"
      ]
     },
     "metadata": {
      "needs_background": "light"
     },
     "output_type": "display_data"
    }
   ],
   "source": [
    "data_ppc3= dict(N = data.shape[0],\n",
    "                 M = 5,\n",
    "                 X = data.iloc[:,0:5].values,\n",
    "                 sigma=2)\n",
    "sim_ppc3=model_ppc1.sample(data=data_ppc3, \n",
    "                           iter_sampling=R, iter_warmup=0, \n",
    "                           chains=1, \n",
    "                           refresh=R,\n",
    "                           fixed_param=True,\n",
    "                           seed=29042020)\n",
    "ppc3=sim_ppc3.draws_pd()\n",
    "beta31=ppc3['beta[1]']\n",
    "beta32=ppc3['beta[2]']\n",
    "beta33=ppc3['beta[3]']\n",
    "beta34=ppc3['beta[4]']\n",
    "beta35=ppc3['beta[5]']\n",
    "plt.figure()\n",
    "plt.hist(beta31,bins=100)[2]\n",
    "plt.figure()\n",
    "plt.hist(beta32,bins=100)[2]\n",
    "plt.figure()\n",
    "plt.hist(beta33,bins=100)[2]\n",
    "plt.figure()\n",
    "plt.hist(beta34,bins=100)[2]\n",
    "plt.figure()\n",
    "plt.hist(beta35,bins=100)[2]"
   ]
  },
  {
   "cell_type": "code",
   "execution_count": 22,
   "metadata": {},
   "outputs": [
    {
     "name": "stderr",
     "output_type": "stream",
     "text": [
      "INFO:cmdstanpy:CmdStan start procesing\n"
     ]
    },
    {
     "data": {
      "application/vnd.jupyter.widget-view+json": {
       "model_id": "49be35ccfce94b9eb34db5bd1cef8b97",
       "version_major": 2,
       "version_minor": 0
      },
      "text/plain": [
       "chain 1 |          | 00:00 Status"
      ]
     },
     "metadata": {},
     "output_type": "display_data"
    },
    {
     "name": "stdout",
     "output_type": "stream",
     "text": [
      "                                                                                                                        "
     ]
    },
    {
     "name": "stderr",
     "output_type": "stream",
     "text": [
      "INFO:cmdstanpy:CmdStan done processing.\n"
     ]
    },
    {
     "name": "stdout",
     "output_type": "stream",
     "text": [
      "\n"
     ]
    },
    {
     "data": {
      "text/plain": [
       "<BarContainer object of 100 artists>"
      ]
     },
     "execution_count": 22,
     "metadata": {},
     "output_type": "execute_result"
    },
    {
     "data": {
      "image/png": "[encoded data removed]",
      "text/plain": [
       "<Figure size 432x288 with 1 Axes>"
      ]
     },
     "metadata": {
      "needs_background": "light"
     },
     "output_type": "display_data"
    },
    {
     "data": {
      "image/png": "[encoded data removed]",
      "text/plain": [
       "<Figure size 432x288 with 1 Axes>"
      ]
     },
     "metadata": {
      "needs_background": "light"
     },
     "output_type": "display_data"
    },
    {
     "data": {
      "image/png": "[encoded data removed]",
      "text/plain": [
       "<Figure size 432x288 with 1 Axes>"
      ]
     },
     "metadata": {
      "needs_background": "light"
     },
     "output_type": "display_data"
    },
    {
     "data": {
      "image/png": "[encoded data removed]",
      "text/plain": [
       "<Figure size 432x288 with 1 Axes>"
      ]
     },
     "metadata": {
      "needs_background": "light"
     },
     "output_type": "display_data"
    },
    {
     "data": {
      "image/png": "[encoded data removed]",
      "text/plain": [
       "<Figure size 432x288 with 1 Axes>"
      ]
     },
     "metadata": {
      "needs_background": "light"
     },
     "output_type": "display_data"
    }
   ],
   "source": [
    "data_ppc4= dict(N = data.shape[0],\n",
    "                 M = 5,\n",
    "                 X = data.iloc[:,0:5].values,\n",
    "                 sigma=0.75)\n",
    "sim_ppc4=model_ppc1.sample(data=data_ppc4, \n",
    "                           iter_sampling=R, iter_warmup=0, \n",
    "                           chains=1, \n",
    "                           refresh=R,\n",
    "                           fixed_param=True,\n",
    "                           seed=29042020)\n",
    "ppc4=sim_ppc4.draws_pd()\n",
    "beta41=ppc4['beta[1]']\n",
    "beta42=ppc4['beta[2]']\n",
    "beta43=ppc4['beta[3]']\n",
    "beta44=ppc4['beta[4]']\n",
    "beta45=ppc4['beta[5]']\n",
    "plt.figure()\n",
    "plt.hist(beta41,bins=100)[2]\n",
    "plt.figure()\n",
    "plt.hist(beta42,bins=100)[2]\n",
    "plt.figure()\n",
    "plt.hist(beta43,bins=100)[2]\n",
    "plt.figure()\n",
    "plt.hist(beta44,bins=100)[2]\n",
    "plt.figure()\n",
    "plt.hist(beta45,bins=100)[2]"
   ]
  },
  {
   "cell_type": "markdown",
   "metadata": {},
   "source": [
    "### Posterior inference"
   ]
  },
  {
   "cell_type": "code",
   "execution_count": 4,
   "metadata": {},
   "outputs": [
    {
     "name": "stderr",
     "output_type": "stream",
     "text": [
      "INFO:cmdstanpy:compiling stan file C:\\Users\\Emperor\\logistic_regression.stan to exe file C:\\Users\\Emperor\\logistic_regression.exe\n",
      "INFO:cmdstanpy:compiled model executable: C:\\Users\\Emperor\\logistic_regression.exe\n",
      "WARNING:cmdstanpy:Stan compiler has produced 2 warnings:\n",
      "WARNING:cmdstanpy:\n",
      "--- Translating Stan model to C++ code ---\n",
      "bin/stanc.exe  --o=C:/Users/Emperor/logistic_regression.hpp C:/Users/Emperor/logistic_regression.stan\n",
      "Warning in 'C:/Users/Emperor/logistic_regression.stan', line 5, column 4: Declaration\n",
      "    of arrays by placing brackets after a variable name is deprecated and\n",
      "    will be removed in Stan 2.32.0. Instead use the array keyword before the\n",
      "    type. This can be changed automatically using the auto-format flag to\n",
      "    stanc\n",
      "Warning in 'C:/Users/Emperor/logistic_regression.stan', line 25, column 4: Declaration\n",
      "    of arrays by placing brackets after a variable name is deprecated and\n",
      "    will be removed in Stan 2.32.0. Instead use the array keyword before the\n",
      "    type. This can be changed automatically using the auto-format flag to\n",
      "    stanc\n",
      "\n",
      "--- Compiling, linking C++ code ---\n",
      "g++ -std=c++1y -m64 -D_REENTRANT -Wall -Wno-unused-function -Wno-uninitialized -Wno-unused-but-set-variable -Wno-unused-variable -Wno-sign-compare -Wno-unused-local-typedefs -Wno-int-in-bool-context -Wno-attributes -Wno-ignored-attributes      -I stan/lib/stan_math/lib/tbb_2020.3/include    -O3 -I src -I stan/src -I lib/rapidjson_1.1.0/ -I lib/CLI11-1.9.1/ -I stan/lib/stan_math/ -I stan/lib/stan_math/lib/eigen_3.3.9 -I stan/lib/stan_math/lib/boost_1.75.0 -I stan/lib/stan_math/lib/sundials_6.0.0/include -I stan/lib/stan_math/lib/sundials_6.0.0/src/sundials  -D_USE_MATH_DEFINES  -DBOOST_DISABLE_ASSERTS          -c  -x c++ -o C:/Users/Emperor/logistic_regression.o C:/Users/Emperor/logistic_regression.hpp\n",
      "g++ -std=c++1y -m64 -D_REENTRANT -Wall -Wno-unused-function -Wno-uninitialized -Wno-unused-but-set-variable -Wno-unused-variable -Wno-sign-compare -Wno-unused-local-typedefs -Wno-int-in-bool-context -Wno-attributes -Wno-ignored-attributes      -I stan/lib/stan_math/lib/tbb_2020.3/include    -O3 -I src -I stan/src -I lib/rapidjson_1.1.0/ -I lib/CLI11-1.9.1/ -I stan/lib/stan_math/ -I stan/lib/stan_math/lib/eigen_3.3.9 -I stan/lib/stan_math/lib/boost_1.75.0 -I stan/lib/stan_math/lib/sundials_6.0.0/include -I stan/lib/stan_math/lib/sundials_6.0.0/src/sundials  -D_USE_MATH_DEFINES  -DBOOST_DISABLE_ASSERTS                -Wl,-L,\"C:/Users/Emperor/.cmdstan/cmdstan-2.29.1/stan/lib/stan_math/lib/tbb\" -Wl,-rpath,\"C:/Users/Emperor/.cmdstan/cmdstan-2.29.1/stan/lib/stan_math/lib/tbb\"      C:/Users/Emperor/logistic_regression.o src/cmdstan/main.o  -static-libgcc -static-libstdc++      -Wl,-L,\"C:/Users/Emperor/.cmdstan/cmdstan-2.29.1/stan/lib/stan_math/lib/tbb\" -Wl,-rpath,\"C:/Users/Emperor/.cmdstan/cmdstan-2.29.1/stan/lib/stan_math/lib/tbb\"   stan/lib/stan_math/lib/sundials_6.0.0/lib/libsundials_nvecserial.a stan/lib/stan_math/lib/sundials_6.0.0/lib/libsundials_cvodes.a stan/lib/stan_math/lib/sundials_6.0.0/lib/libsundials_idas.a stan/lib/stan_math/lib/sundials_6.0.0/lib/libsundials_kinsol.a  stan/lib/stan_math/lib/tbb/tbb.dll -o C:/Users/Emperor/logistic_regression.exe\n",
      "rm -f C:/Users/Emperor/logistic_regression.o\n",
      "\n"
     ]
    }
   ],
   "source": [
    "model = CmdStanModel(stan_file='logistic_regression.stan')"
   ]
  },
  {
   "cell_type": "code",
   "execution_count": 23,
   "metadata": {},
   "outputs": [
    {
     "name": "stderr",
     "output_type": "stream",
     "text": [
      "INFO:cmdstanpy:CmdStan start procesing\n"
     ]
    },
    {
     "data": {
      "application/vnd.jupyter.widget-view+json": {
       "model_id": "0fee3e9165d240febefd27423b917016",
       "version_major": 2,
       "version_minor": 0
      },
      "text/plain": [
       "chain 1 |          | 00:00 Status"
      ]
     },
     "metadata": {},
     "output_type": "display_data"
    },
    {
     "data": {
      "application/vnd.jupyter.widget-view+json": {
       "model_id": "fe6bc403660b47f9bde852317d88bc17",
       "version_major": 2,
       "version_minor": 0
      },
      "text/plain": [
       "chain 2 |          | 00:00 Status"
      ]
     },
     "metadata": {},
     "output_type": "display_data"
    },
    {
     "data": {
      "application/vnd.jupyter.widget-view+json": {
       "model_id": "3e00ebea6c604a4a84570633555c516e",
       "version_major": 2,
       "version_minor": 0
      },
      "text/plain": [
       "chain 3 |          | 00:00 Status"
      ]
     },
     "metadata": {},
     "output_type": "display_data"
    },
    {
     "data": {
      "application/vnd.jupyter.widget-view+json": {
       "model_id": "b65f1d015eee494b8cb325f3afe44b7a",
       "version_major": 2,
       "version_minor": 0
      },
      "text/plain": [
       "chain 4 |          | 00:00 Status"
      ]
     },
     "metadata": {},
     "output_type": "display_data"
    },
    {
     "name": "stdout",
     "output_type": "stream",
     "text": [
      "                                                                                                                                                                                                                                                                                                                                                                                                                                                                                                "
     ]
    },
    {
     "name": "stderr",
     "output_type": "stream",
     "text": [
      "INFO:cmdstanpy:CmdStan done processing.\n"
     ]
    },
    {
     "name": "stdout",
     "output_type": "stream",
     "text": [
      "\n"
     ]
    }
   ],
   "source": [
    "data_dict = dict(N = data.shape[0],\n",
    "                 M = 5,\n",
    "                 X = data.iloc[:,0:5].values,\n",
    "                 y = data.y.values\n",
    "                 )\n",
    "fit = model.sample(data=data_dict, seed=4938483)"
   ]
  },
  {
   "cell_type": "code",
   "execution_count": 62,
   "metadata": {},
   "outputs": [],
   "source": [
    "#plot\n",
    "'''\n",
    "w=fit.stan_variable('prob_ppc')\n",
    "y=[]\n",
    "x=[]\n",
    "for i in range(500):\n",
    "    v=(np.linspace(i,i,num=4000))\n",
    "    for j in range(4000):\n",
    "        y.append(w[j,i])\n",
    "        x.append(v[j])\n",
    "plt.errorbar(x,y)\n",
    "'''\n",
    "med_prob_ppc = np.percentile(fit.stan_variable('prob_ppc'),[25,50,75],axis=0)\n",
    "estimate_ppc_df = pd.DataFrame(med_prob_ppc.T,columns = ['lo','med','hi'])\n",
    "\n",
    "\n"
   ]
  },
  {
   "cell_type": "markdown",
   "metadata": {},
   "source": [
    "#### Task 2.\n",
    "\n",
    "1. Edit stan model and create models with different priors. Use original setting and some priors from task 1.\n",
    "2. Fit the model\n",
    "3. Plot the probability of individual outcome:\n",
    "- plot generated paramether theta (prob_pcc): mean with its error bars (plt.errorbar)\n",
    "- to plot its error bars take into consider its 25th, 50th and 75th percentile\n",
    "- also mark the real value of y, by different colored dots (for mean values)\n",
    "    \n",
    "4. Consider if the probability was well captured by each setting"
   ]
  },
  {
   "cell_type": "code",
   "execution_count": 63,
   "metadata": {},
   "outputs": [
    {
     "data": {
      "text/plain": [
       "[<matplotlib.lines.Line2D at 0x1951e245250>]"
      ]
     },
     "execution_count": 63,
     "metadata": {},
     "output_type": "execute_result"
    },
    {
     "data": {
      "image/png": "[encoded data removed]",
      "text/plain": [
       "<Figure size 432x288 with 1 Axes>"
      ]
     },
     "metadata": {
      "needs_background": "light"
     },
     "output_type": "display_data"
    }
   ],
   "source": [
    "original=data['y']\n",
    "plt.figure()\n",
    "plt.plot(estimate_ppc_df)\n",
    "plt.plot(original,'ko')"
   ]
  },
  {
   "cell_type": "code",
   "execution_count": 61,
   "metadata": {},
   "outputs": [
    {
     "data": {
      "text/html": [
       "<div>\n",
       "<style scoped>\n",
       "    .dataframe tbody tr th:only-of-type {\n",
       "        vertical-align: middle;\n",
       "    }\n",
       "\n",
       "    .dataframe tbody tr th {\n",
       "        vertical-align: top;\n",
       "    }\n",
       "\n",
       "    .dataframe thead th {\n",
       "        text-align: right;\n",
       "    }\n",
       "</style>\n",
       "<table border=\"1\" class=\"dataframe\">\n",
       "  <thead>\n",
       "    <tr style=\"text-align: right;\">\n",
       "      <th></th>\n",
       "      <th>lo</th>\n",
       "      <th>med</th>\n",
       "      <th>hi</th>\n",
       "    </tr>\n",
       "  </thead>\n",
       "  <tbody>\n",
       "    <tr>\n",
       "      <th>0</th>\n",
       "      <td>0.477654</td>\n",
       "      <td>0.511318</td>\n",
       "      <td>0.543434</td>\n",
       "    </tr>\n",
       "    <tr>\n",
       "      <th>1</th>\n",
       "      <td>0.485028</td>\n",
       "      <td>0.525451</td>\n",
       "      <td>0.566652</td>\n",
       "    </tr>\n",
       "    <tr>\n",
       "      <th>2</th>\n",
       "      <td>0.242320</td>\n",
       "      <td>0.291134</td>\n",
       "      <td>0.343588</td>\n",
       "    </tr>\n",
       "    <tr>\n",
       "      <th>3</th>\n",
       "      <td>0.399611</td>\n",
       "      <td>0.434450</td>\n",
       "      <td>0.470027</td>\n",
       "    </tr>\n",
       "    <tr>\n",
       "      <th>4</th>\n",
       "      <td>0.539597</td>\n",
       "      <td>0.571599</td>\n",
       "      <td>0.601757</td>\n",
       "    </tr>\n",
       "    <tr>\n",
       "      <th>...</th>\n",
       "      <td>...</td>\n",
       "      <td>...</td>\n",
       "      <td>...</td>\n",
       "    </tr>\n",
       "    <tr>\n",
       "      <th>495</th>\n",
       "      <td>0.235355</td>\n",
       "      <td>0.276517</td>\n",
       "      <td>0.320877</td>\n",
       "    </tr>\n",
       "    <tr>\n",
       "      <th>496</th>\n",
       "      <td>0.348439</td>\n",
       "      <td>0.380999</td>\n",
       "      <td>0.415240</td>\n",
       "    </tr>\n",
       "    <tr>\n",
       "      <th>497</th>\n",
       "      <td>0.332673</td>\n",
       "      <td>0.388501</td>\n",
       "      <td>0.449523</td>\n",
       "    </tr>\n",
       "    <tr>\n",
       "      <th>498</th>\n",
       "      <td>0.502290</td>\n",
       "      <td>0.540150</td>\n",
       "      <td>0.576466</td>\n",
       "    </tr>\n",
       "    <tr>\n",
       "      <th>499</th>\n",
       "      <td>0.257056</td>\n",
       "      <td>0.294489</td>\n",
       "      <td>0.335275</td>\n",
       "    </tr>\n",
       "  </tbody>\n",
       "</table>\n",
       "<p>500 rows × 3 columns</p>\n",
       "</div>"
      ],
      "text/plain": [
       "           lo       med        hi\n",
       "0    0.477654  0.511318  0.543434\n",
       "1    0.485028  0.525451  0.566652\n",
       "2    0.242320  0.291134  0.343588\n",
       "3    0.399611  0.434450  0.470027\n",
       "4    0.539597  0.571599  0.601757\n",
       "..        ...       ...       ...\n",
       "495  0.235355  0.276517  0.320877\n",
       "496  0.348439  0.380999  0.415240\n",
       "497  0.332673  0.388501  0.449523\n",
       "498  0.502290  0.540150  0.576466\n",
       "499  0.257056  0.294489  0.335275\n",
       "\n",
       "[500 rows x 3 columns]"
      ]
     },
     "execution_count": 61,
     "metadata": {},
     "output_type": "execute_result"
    }
   ],
   "source": [
    "estimate_ppc_df"
   ]
  },
  {
   "cell_type": "code",
   "execution_count": null,
   "metadata": {},
   "outputs": [],
   "source": []
  }
 ],
 "metadata": {
  "kernelspec": {
   "display_name": "Python 3 (ipykernel)",
   "language": "python",
   "name": "python3"
  },
  "language_info": {
   "codemirror_mode": {
    "name": "ipython",
    "version": 3
   },
   "file_extension": ".py",
   "mimetype": "text/x-python",
   "name": "python",
   "nbconvert_exporter": "python",
   "pygments_lexer": "ipython3",
   "version": "3.9.7"
  }
 },
 "nbformat": 4,
 "nbformat_minor": 4
}
